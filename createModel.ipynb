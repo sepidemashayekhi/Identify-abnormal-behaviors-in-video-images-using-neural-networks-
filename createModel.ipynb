{
 "cells": [
  {
   "cell_type": "code",
   "execution_count": 12,
   "metadata": {},
   "outputs": [],
   "source": [
    "from keras.layers import Dense,Conv2D,Conv3D,MaxPooling3D,Flatten,Input\n",
    "from keras.models import Model\n",
    "from keras.callbacks import ModelCheckpoint,EarlyStopping\n",
    "import numpy as np "
   ]
  },
  {
   "cell_type": "code",
   "execution_count": 2,
   "metadata": {},
   "outputs": [],
   "source": [
    "checkpoints=ModelCheckpoint(filepath='my_model.h5',monitor='val_loss',save_best_only=True)\n",
    "Earlystop=EarlyStopping(monitor='acc',patience=2)\n",
    "callbacklist=[checkpoints,Earlystop]"
   ]
  },
  {
   "cell_type": "code",
   "execution_count": 4,
   "metadata": {},
   "outputs": [],
   "source": [
    "data=np.load('G:\\my_project\\Identify-abnormal-behaviors-in-video-images-using-neural-networks-\\data\\Result_1.npy')"
   ]
  },
  {
   "cell_type": "code",
   "execution_count": 8,
   "metadata": {},
   "outputs": [],
   "source": [
    "data=np.reshape(data,(34,200,158,238,3))"
   ]
  },
  {
   "cell_type": "code",
   "execution_count": 14,
   "metadata": {},
   "outputs": [],
   "source": [
    "# creat model\n",
    "input=Input(shape=(200,158,238,3))\n",
    "layer=Conv3D(12,(3,3,3),activation='relu')(input)\n",
    "layer=Conv2D(1,(3,3),activation='relu')(layer)\n",
    "layer=MaxPooling3D((2,2,2))(layer)\n",
    "layer=Conv3D(1,(3,3,3),activation='relu')(layer)\n",
    "layer=MaxPooling3D((2,2,2))(layer)\n",
    "layer=Conv3D(1,(3,3,3),activation='relu')(layer)\n",
    "layer=Conv2D(1,(4,4),activation='relu')(layer)\n",
    "flatten=Flatten()(layer)\n",
    "output=Dense(1,activation='sigmoid')(flatten)\n",
    "\n",
    "model=Model(input,output)\n",
    "model.compile(loss='binary_crossentropy',metrics=['acc'],optimizer='adam')"
   ]
  },
  {
   "cell_type": "code",
   "execution_count": null,
   "metadata": {},
   "outputs": [],
   "source": [
    "history=model.fit(data,data,batch_size=200,epochs=8,validation_split=0.25)"
   ]
  }
 ],
 "metadata": {
  "interpreter": {
   "hash": "330deccf8e38a25fb7d84aed1bef8b9922979c4ec18de6b2476cfdcefb0b0f6e"
  },
  "kernelspec": {
   "display_name": "Python 3.9.7 ('base')",
   "language": "python",
   "name": "python3"
  },
  "language_info": {
   "codemirror_mode": {
    "name": "ipython",
    "version": 3
   },
   "file_extension": ".py",
   "mimetype": "text/x-python",
   "name": "python",
   "nbconvert_exporter": "python",
   "pygments_lexer": "ipython3",
   "version": "3.9.7"
  },
  "orig_nbformat": 4
 },
 "nbformat": 4,
 "nbformat_minor": 2
}
